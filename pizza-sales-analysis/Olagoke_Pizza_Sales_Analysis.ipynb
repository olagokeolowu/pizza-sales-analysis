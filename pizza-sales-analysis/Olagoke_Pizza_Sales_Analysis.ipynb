{
 "cells": [
  {
   "cell_type": "markdown",
   "id": "567f4744-d2a9-44c3-9f35-e349aa2063b9",
   "metadata": {},
   "source": [
    "# TASK 3"
   ]
  },
  {
   "cell_type": "markdown",
   "id": "4124bfe6-adec-4dda-9376-8191a3ae92da",
   "metadata": {},
   "source": [
    "- Find the zip file for the task named “Pizza+Place+Sales.zip” in the Datasets folder on the drive. It contains four CSV files: Orders, Order Details, Pizzas, and Pizza Types. You’ll also find a data dictionary that describes each dataset\n",
    "  \n",
    "**Tip:** You can join the four CSV files into a single data frame before you start your analysis.\n",
    "\n",
    "**Pizza Place Sales**\n",
    "- A year's worth of sales from a fictitious pizza place, including the date and time of each order and the pizzas served, with additional details on the type, size, quantity, price, and ingredients.\n"
   ]
  },
  {
   "cell_type": "markdown",
   "id": "bcc9dcfe-bbfc-453e-ba8b-4d92a0ed3b45",
   "metadata": {},
   "source": [
    "### Import Libraries"
   ]
  },
  {
   "cell_type": "code",
   "execution_count": 4,
   "id": "465bdd25-3cf7-4a62-9393-75f33440f084",
   "metadata": {},
   "outputs": [],
   "source": [
    "# Importing the necessary libraries\n",
    "import pandas as pd\n",
    "import numpy as np\n",
    "import matplotlib.pyplot as plt"
   ]
  },
  {
   "cell_type": "markdown",
   "id": "001bbc1f-85f1-4e4f-8803-912566a72f3c",
   "metadata": {},
   "source": [
    "### Load Datasets"
   ]
  },
  {
   "cell_type": "code",
   "execution_count": 6,
   "id": "53922136-3913-402b-9422-a09b97e89b46",
   "metadata": {},
   "outputs": [],
   "source": [
    "# Reading the Orders dataset\n",
    "df_orders = pd.read_csv(r\"C:\\Users\\olago\\Documents\\Data Science Journey\\TechCrush\\Pizza+Place+Sales\\pizza_sales\\orders.csv\")\n",
    "\n",
    "# Reading the Order Details dataset\n",
    "df_order_details = pd.read_csv(r\"C:\\Users\\olago\\Documents\\Data Science Journey\\TechCrush\\Pizza+Place+Sales\\pizza_sales\\order_details.csv\")\n",
    "\n",
    "# Reading the Pizzas dataset\n",
    "df_pizzas = pd.read_csv(r\"C:\\Users\\olago\\Documents\\Data Science Journey\\TechCrush\\Pizza+Place+Sales\\pizza_sales\\pizzas.csv\")\n",
    "\n",
    "# Reading the Pizza Types dataset\n",
    "df_pizza_types = pd.read_csv(r\"C:\\Users\\olago\\Documents\\Data Science Journey\\TechCrush\\Pizza+Place+Sales\\pizza_sales\\pizza_types.csv\", \n",
    "                             encoding=\"cp1252\")"
   ]
  },
  {
   "cell_type": "code",
   "execution_count": 7,
   "id": "1eb9935b-4659-47e1-b73f-4449eccbb707",
   "metadata": {},
   "outputs": [
    {
     "data": {
      "text/html": [
       "<div>\n",
       "<style scoped>\n",
       "    .dataframe tbody tr th:only-of-type {\n",
       "        vertical-align: middle;\n",
       "    }\n",
       "\n",
       "    .dataframe tbody tr th {\n",
       "        vertical-align: top;\n",
       "    }\n",
       "\n",
       "    .dataframe thead th {\n",
       "        text-align: right;\n",
       "    }\n",
       "</style>\n",
       "<table border=\"1\" class=\"dataframe\">\n",
       "  <thead>\n",
       "    <tr style=\"text-align: right;\">\n",
       "      <th></th>\n",
       "      <th>order_id</th>\n",
       "      <th>date</th>\n",
       "      <th>time</th>\n",
       "    </tr>\n",
       "  </thead>\n",
       "  <tbody>\n",
       "    <tr>\n",
       "      <th>0</th>\n",
       "      <td>1</td>\n",
       "      <td>2015-01-01</td>\n",
       "      <td>11:38:36</td>\n",
       "    </tr>\n",
       "    <tr>\n",
       "      <th>1</th>\n",
       "      <td>2</td>\n",
       "      <td>2015-01-01</td>\n",
       "      <td>11:57:40</td>\n",
       "    </tr>\n",
       "    <tr>\n",
       "      <th>2</th>\n",
       "      <td>3</td>\n",
       "      <td>2015-01-01</td>\n",
       "      <td>12:12:28</td>\n",
       "    </tr>\n",
       "    <tr>\n",
       "      <th>3</th>\n",
       "      <td>4</td>\n",
       "      <td>2015-01-01</td>\n",
       "      <td>12:16:31</td>\n",
       "    </tr>\n",
       "    <tr>\n",
       "      <th>4</th>\n",
       "      <td>5</td>\n",
       "      <td>2015-01-01</td>\n",
       "      <td>12:21:30</td>\n",
       "    </tr>\n",
       "  </tbody>\n",
       "</table>\n",
       "</div>"
      ],
      "text/plain": [
       "   order_id        date      time\n",
       "0         1  2015-01-01  11:38:36\n",
       "1         2  2015-01-01  11:57:40\n",
       "2         3  2015-01-01  12:12:28\n",
       "3         4  2015-01-01  12:16:31\n",
       "4         5  2015-01-01  12:21:30"
      ]
     },
     "execution_count": 7,
     "metadata": {},
     "output_type": "execute_result"
    }
   ],
   "source": [
    "# Viewing the Orders dataframe head\n",
    "df_orders.head()"
   ]
  },
  {
   "cell_type": "code",
   "execution_count": 8,
   "id": "8fddbcc7-da57-4e9a-9ab3-853521ea3a0b",
   "metadata": {},
   "outputs": [
    {
     "data": {
      "text/html": [
       "<div>\n",
       "<style scoped>\n",
       "    .dataframe tbody tr th:only-of-type {\n",
       "        vertical-align: middle;\n",
       "    }\n",
       "\n",
       "    .dataframe tbody tr th {\n",
       "        vertical-align: top;\n",
       "    }\n",
       "\n",
       "    .dataframe thead th {\n",
       "        text-align: right;\n",
       "    }\n",
       "</style>\n",
       "<table border=\"1\" class=\"dataframe\">\n",
       "  <thead>\n",
       "    <tr style=\"text-align: right;\">\n",
       "      <th></th>\n",
       "      <th>order_details_id</th>\n",
       "      <th>order_id</th>\n",
       "      <th>pizza_id</th>\n",
       "      <th>quantity</th>\n",
       "    </tr>\n",
       "  </thead>\n",
       "  <tbody>\n",
       "    <tr>\n",
       "      <th>0</th>\n",
       "      <td>1</td>\n",
       "      <td>1</td>\n",
       "      <td>hawaiian_m</td>\n",
       "      <td>1</td>\n",
       "    </tr>\n",
       "    <tr>\n",
       "      <th>1</th>\n",
       "      <td>2</td>\n",
       "      <td>2</td>\n",
       "      <td>classic_dlx_m</td>\n",
       "      <td>1</td>\n",
       "    </tr>\n",
       "    <tr>\n",
       "      <th>2</th>\n",
       "      <td>3</td>\n",
       "      <td>2</td>\n",
       "      <td>five_cheese_l</td>\n",
       "      <td>1</td>\n",
       "    </tr>\n",
       "    <tr>\n",
       "      <th>3</th>\n",
       "      <td>4</td>\n",
       "      <td>2</td>\n",
       "      <td>ital_supr_l</td>\n",
       "      <td>1</td>\n",
       "    </tr>\n",
       "    <tr>\n",
       "      <th>4</th>\n",
       "      <td>5</td>\n",
       "      <td>2</td>\n",
       "      <td>mexicana_m</td>\n",
       "      <td>1</td>\n",
       "    </tr>\n",
       "  </tbody>\n",
       "</table>\n",
       "</div>"
      ],
      "text/plain": [
       "   order_details_id  order_id       pizza_id  quantity\n",
       "0                 1         1     hawaiian_m         1\n",
       "1                 2         2  classic_dlx_m         1\n",
       "2                 3         2  five_cheese_l         1\n",
       "3                 4         2    ital_supr_l         1\n",
       "4                 5         2     mexicana_m         1"
      ]
     },
     "execution_count": 8,
     "metadata": {},
     "output_type": "execute_result"
    }
   ],
   "source": [
    "# Viewing the Order Details dataframe head\n",
    "df_order_details.head()"
   ]
  },
  {
   "cell_type": "code",
   "execution_count": 9,
   "id": "6ef388d5-15e7-4b2c-9806-7796d63fd4f8",
   "metadata": {},
   "outputs": [
    {
     "data": {
      "text/html": [
       "<div>\n",
       "<style scoped>\n",
       "    .dataframe tbody tr th:only-of-type {\n",
       "        vertical-align: middle;\n",
       "    }\n",
       "\n",
       "    .dataframe tbody tr th {\n",
       "        vertical-align: top;\n",
       "    }\n",
       "\n",
       "    .dataframe thead th {\n",
       "        text-align: right;\n",
       "    }\n",
       "</style>\n",
       "<table border=\"1\" class=\"dataframe\">\n",
       "  <thead>\n",
       "    <tr style=\"text-align: right;\">\n",
       "      <th></th>\n",
       "      <th>pizza_id</th>\n",
       "      <th>pizza_type_id</th>\n",
       "      <th>size</th>\n",
       "      <th>price</th>\n",
       "    </tr>\n",
       "  </thead>\n",
       "  <tbody>\n",
       "    <tr>\n",
       "      <th>0</th>\n",
       "      <td>bbq_ckn_s</td>\n",
       "      <td>bbq_ckn</td>\n",
       "      <td>S</td>\n",
       "      <td>12.75</td>\n",
       "    </tr>\n",
       "    <tr>\n",
       "      <th>1</th>\n",
       "      <td>bbq_ckn_m</td>\n",
       "      <td>bbq_ckn</td>\n",
       "      <td>M</td>\n",
       "      <td>16.75</td>\n",
       "    </tr>\n",
       "    <tr>\n",
       "      <th>2</th>\n",
       "      <td>bbq_ckn_l</td>\n",
       "      <td>bbq_ckn</td>\n",
       "      <td>L</td>\n",
       "      <td>20.75</td>\n",
       "    </tr>\n",
       "    <tr>\n",
       "      <th>3</th>\n",
       "      <td>cali_ckn_s</td>\n",
       "      <td>cali_ckn</td>\n",
       "      <td>S</td>\n",
       "      <td>12.75</td>\n",
       "    </tr>\n",
       "    <tr>\n",
       "      <th>4</th>\n",
       "      <td>cali_ckn_m</td>\n",
       "      <td>cali_ckn</td>\n",
       "      <td>M</td>\n",
       "      <td>16.75</td>\n",
       "    </tr>\n",
       "  </tbody>\n",
       "</table>\n",
       "</div>"
      ],
      "text/plain": [
       "     pizza_id pizza_type_id size  price\n",
       "0   bbq_ckn_s       bbq_ckn    S  12.75\n",
       "1   bbq_ckn_m       bbq_ckn    M  16.75\n",
       "2   bbq_ckn_l       bbq_ckn    L  20.75\n",
       "3  cali_ckn_s      cali_ckn    S  12.75\n",
       "4  cali_ckn_m      cali_ckn    M  16.75"
      ]
     },
     "execution_count": 9,
     "metadata": {},
     "output_type": "execute_result"
    }
   ],
   "source": [
    "# Viewing the Pizzas dataframe head\n",
    "df_pizzas.head()"
   ]
  },
  {
   "cell_type": "code",
   "execution_count": 10,
   "id": "a8161cc0-4f38-4387-bc37-9375ca5d5dd6",
   "metadata": {},
   "outputs": [
    {
     "data": {
      "text/html": [
       "<div>\n",
       "<style scoped>\n",
       "    .dataframe tbody tr th:only-of-type {\n",
       "        vertical-align: middle;\n",
       "    }\n",
       "\n",
       "    .dataframe tbody tr th {\n",
       "        vertical-align: top;\n",
       "    }\n",
       "\n",
       "    .dataframe thead th {\n",
       "        text-align: right;\n",
       "    }\n",
       "</style>\n",
       "<table border=\"1\" class=\"dataframe\">\n",
       "  <thead>\n",
       "    <tr style=\"text-align: right;\">\n",
       "      <th></th>\n",
       "      <th>pizza_type_id</th>\n",
       "      <th>name</th>\n",
       "      <th>category</th>\n",
       "      <th>ingredients</th>\n",
       "    </tr>\n",
       "  </thead>\n",
       "  <tbody>\n",
       "    <tr>\n",
       "      <th>0</th>\n",
       "      <td>bbq_ckn</td>\n",
       "      <td>The Barbecue Chicken Pizza</td>\n",
       "      <td>Chicken</td>\n",
       "      <td>Barbecued Chicken, Red Peppers, Green Peppers,...</td>\n",
       "    </tr>\n",
       "    <tr>\n",
       "      <th>1</th>\n",
       "      <td>cali_ckn</td>\n",
       "      <td>The California Chicken Pizza</td>\n",
       "      <td>Chicken</td>\n",
       "      <td>Chicken, Artichoke, Spinach, Garlic, Jalapeno ...</td>\n",
       "    </tr>\n",
       "    <tr>\n",
       "      <th>2</th>\n",
       "      <td>ckn_alfredo</td>\n",
       "      <td>The Chicken Alfredo Pizza</td>\n",
       "      <td>Chicken</td>\n",
       "      <td>Chicken, Red Onions, Red Peppers, Mushrooms, A...</td>\n",
       "    </tr>\n",
       "    <tr>\n",
       "      <th>3</th>\n",
       "      <td>ckn_pesto</td>\n",
       "      <td>The Chicken Pesto Pizza</td>\n",
       "      <td>Chicken</td>\n",
       "      <td>Chicken, Tomatoes, Red Peppers, Spinach, Garli...</td>\n",
       "    </tr>\n",
       "    <tr>\n",
       "      <th>4</th>\n",
       "      <td>southw_ckn</td>\n",
       "      <td>The Southwest Chicken Pizza</td>\n",
       "      <td>Chicken</td>\n",
       "      <td>Chicken, Tomatoes, Red Peppers, Red Onions, Ja...</td>\n",
       "    </tr>\n",
       "  </tbody>\n",
       "</table>\n",
       "</div>"
      ],
      "text/plain": [
       "  pizza_type_id                          name category  \\\n",
       "0       bbq_ckn    The Barbecue Chicken Pizza  Chicken   \n",
       "1      cali_ckn  The California Chicken Pizza  Chicken   \n",
       "2   ckn_alfredo     The Chicken Alfredo Pizza  Chicken   \n",
       "3     ckn_pesto       The Chicken Pesto Pizza  Chicken   \n",
       "4    southw_ckn   The Southwest Chicken Pizza  Chicken   \n",
       "\n",
       "                                         ingredients  \n",
       "0  Barbecued Chicken, Red Peppers, Green Peppers,...  \n",
       "1  Chicken, Artichoke, Spinach, Garlic, Jalapeno ...  \n",
       "2  Chicken, Red Onions, Red Peppers, Mushrooms, A...  \n",
       "3  Chicken, Tomatoes, Red Peppers, Spinach, Garli...  \n",
       "4  Chicken, Tomatoes, Red Peppers, Red Onions, Ja...  "
      ]
     },
     "execution_count": 10,
     "metadata": {},
     "output_type": "execute_result"
    }
   ],
   "source": [
    "# Viewing the Pizza Types dataframe head\n",
    "df_pizza_types.head()"
   ]
  },
  {
   "cell_type": "markdown",
   "id": "ded8d606-e6c9-4e95-af35-5f106190149d",
   "metadata": {},
   "source": [
    "### Joining all dataframes using their related columns"
   ]
  },
  {
   "cell_type": "code",
   "execution_count": 12,
   "id": "b76b63e2-0cc8-4129-bc0d-bff3f087a078",
   "metadata": {},
   "outputs": [
    {
     "data": {
      "text/html": [
       "<div>\n",
       "<style scoped>\n",
       "    .dataframe tbody tr th:only-of-type {\n",
       "        vertical-align: middle;\n",
       "    }\n",
       "\n",
       "    .dataframe tbody tr th {\n",
       "        vertical-align: top;\n",
       "    }\n",
       "\n",
       "    .dataframe thead th {\n",
       "        text-align: right;\n",
       "    }\n",
       "</style>\n",
       "<table border=\"1\" class=\"dataframe\">\n",
       "  <thead>\n",
       "    <tr style=\"text-align: right;\">\n",
       "      <th></th>\n",
       "      <th>order_id</th>\n",
       "      <th>date</th>\n",
       "      <th>time</th>\n",
       "      <th>order_details_id</th>\n",
       "      <th>pizza_id</th>\n",
       "      <th>quantity</th>\n",
       "      <th>pizza_type_id</th>\n",
       "      <th>size</th>\n",
       "      <th>price</th>\n",
       "      <th>name</th>\n",
       "      <th>category</th>\n",
       "      <th>ingredients</th>\n",
       "    </tr>\n",
       "  </thead>\n",
       "  <tbody>\n",
       "    <tr>\n",
       "      <th>0</th>\n",
       "      <td>1</td>\n",
       "      <td>2015-01-01</td>\n",
       "      <td>11:38:36</td>\n",
       "      <td>1</td>\n",
       "      <td>hawaiian_m</td>\n",
       "      <td>1</td>\n",
       "      <td>hawaiian</td>\n",
       "      <td>M</td>\n",
       "      <td>13.25</td>\n",
       "      <td>The Hawaiian Pizza</td>\n",
       "      <td>Classic</td>\n",
       "      <td>Sliced Ham, Pineapple, Mozzarella Cheese</td>\n",
       "    </tr>\n",
       "    <tr>\n",
       "      <th>1</th>\n",
       "      <td>2</td>\n",
       "      <td>2015-01-01</td>\n",
       "      <td>11:57:40</td>\n",
       "      <td>2</td>\n",
       "      <td>classic_dlx_m</td>\n",
       "      <td>1</td>\n",
       "      <td>classic_dlx</td>\n",
       "      <td>M</td>\n",
       "      <td>16.00</td>\n",
       "      <td>The Classic Deluxe Pizza</td>\n",
       "      <td>Classic</td>\n",
       "      <td>Pepperoni, Mushrooms, Red Onions, Red Peppers,...</td>\n",
       "    </tr>\n",
       "    <tr>\n",
       "      <th>2</th>\n",
       "      <td>2</td>\n",
       "      <td>2015-01-01</td>\n",
       "      <td>11:57:40</td>\n",
       "      <td>3</td>\n",
       "      <td>five_cheese_l</td>\n",
       "      <td>1</td>\n",
       "      <td>five_cheese</td>\n",
       "      <td>L</td>\n",
       "      <td>18.50</td>\n",
       "      <td>The Five Cheese Pizza</td>\n",
       "      <td>Veggie</td>\n",
       "      <td>Mozzarella Cheese, Provolone Cheese, Smoked Go...</td>\n",
       "    </tr>\n",
       "    <tr>\n",
       "      <th>3</th>\n",
       "      <td>2</td>\n",
       "      <td>2015-01-01</td>\n",
       "      <td>11:57:40</td>\n",
       "      <td>4</td>\n",
       "      <td>ital_supr_l</td>\n",
       "      <td>1</td>\n",
       "      <td>ital_supr</td>\n",
       "      <td>L</td>\n",
       "      <td>20.75</td>\n",
       "      <td>The Italian Supreme Pizza</td>\n",
       "      <td>Supreme</td>\n",
       "      <td>Calabrese Salami, Capocollo, Tomatoes, Red Oni...</td>\n",
       "    </tr>\n",
       "    <tr>\n",
       "      <th>4</th>\n",
       "      <td>2</td>\n",
       "      <td>2015-01-01</td>\n",
       "      <td>11:57:40</td>\n",
       "      <td>5</td>\n",
       "      <td>mexicana_m</td>\n",
       "      <td>1</td>\n",
       "      <td>mexicana</td>\n",
       "      <td>M</td>\n",
       "      <td>16.00</td>\n",
       "      <td>The Mexicana Pizza</td>\n",
       "      <td>Veggie</td>\n",
       "      <td>Tomatoes, Red Peppers, Jalapeno Peppers, Red O...</td>\n",
       "    </tr>\n",
       "  </tbody>\n",
       "</table>\n",
       "</div>"
      ],
      "text/plain": [
       "   order_id        date      time  order_details_id       pizza_id  quantity  \\\n",
       "0         1  2015-01-01  11:38:36                 1     hawaiian_m         1   \n",
       "1         2  2015-01-01  11:57:40                 2  classic_dlx_m         1   \n",
       "2         2  2015-01-01  11:57:40                 3  five_cheese_l         1   \n",
       "3         2  2015-01-01  11:57:40                 4    ital_supr_l         1   \n",
       "4         2  2015-01-01  11:57:40                 5     mexicana_m         1   \n",
       "\n",
       "  pizza_type_id size  price                       name category  \\\n",
       "0      hawaiian    M  13.25         The Hawaiian Pizza  Classic   \n",
       "1   classic_dlx    M  16.00   The Classic Deluxe Pizza  Classic   \n",
       "2   five_cheese    L  18.50      The Five Cheese Pizza   Veggie   \n",
       "3     ital_supr    L  20.75  The Italian Supreme Pizza  Supreme   \n",
       "4      mexicana    M  16.00         The Mexicana Pizza   Veggie   \n",
       "\n",
       "                                         ingredients  \n",
       "0           Sliced Ham, Pineapple, Mozzarella Cheese  \n",
       "1  Pepperoni, Mushrooms, Red Onions, Red Peppers,...  \n",
       "2  Mozzarella Cheese, Provolone Cheese, Smoked Go...  \n",
       "3  Calabrese Salami, Capocollo, Tomatoes, Red Oni...  \n",
       "4  Tomatoes, Red Peppers, Jalapeno Peppers, Red O...  "
      ]
     },
     "execution_count": 12,
     "metadata": {},
     "output_type": "execute_result"
    }
   ],
   "source": [
    "# Merging orders with order_details (on order_id)\n",
    "orders_details = df_orders.merge(df_order_details, on=\"order_id\")\n",
    "\n",
    "# Merging the resultant orders_details above with pizzas (on pizza_id)\n",
    "orders_pizzas = orders_details.merge(df_pizzas, on=\"pizza_id\")\n",
    "\n",
    "# Merging the resultant orders_pizzas above with pizza_types (on pizza_type_id)\n",
    "df_master = orders_pizzas.merge(df_pizza_types, on=\"pizza_type_id\")\n",
    "\n",
    "# Displaying all the four datasets that have being merged\n",
    "df_master.head()"
   ]
  },
  {
   "cell_type": "markdown",
   "id": "af064230-31ea-4ccc-be05-09b3facc55d2",
   "metadata": {},
   "source": [
    "### Exploratory Data Analysis"
   ]
  },
  {
   "cell_type": "code",
   "execution_count": 14,
   "id": "2e96c0d0-2039-4e1b-9a84-20fdadb5c398",
   "metadata": {},
   "outputs": [
    {
     "data": {
      "text/plain": [
       "(48620, 12)"
      ]
     },
     "execution_count": 14,
     "metadata": {},
     "output_type": "execute_result"
    }
   ],
   "source": [
    "df_master.shape"
   ]
  },
  {
   "cell_type": "markdown",
   "id": "3c75dede-533d-429c-9214-6e3e584eb742",
   "metadata": {},
   "source": [
    "- The pizza place sales master dataframe has **48,260 Rows** and **12 Columns**."
   ]
  },
  {
   "cell_type": "code",
   "execution_count": 16,
   "id": "24d64747-d9d1-40b1-8b0b-aefa00cfcb62",
   "metadata": {},
   "outputs": [
    {
     "name": "stdout",
     "output_type": "stream",
     "text": [
      "<class 'pandas.core.frame.DataFrame'>\n",
      "RangeIndex: 48620 entries, 0 to 48619\n",
      "Data columns (total 12 columns):\n",
      " #   Column            Non-Null Count  Dtype  \n",
      "---  ------            --------------  -----  \n",
      " 0   order_id          48620 non-null  int64  \n",
      " 1   date              48620 non-null  object \n",
      " 2   time              48620 non-null  object \n",
      " 3   order_details_id  48620 non-null  int64  \n",
      " 4   pizza_id          48620 non-null  object \n",
      " 5   quantity          48620 non-null  int64  \n",
      " 6   pizza_type_id     48620 non-null  object \n",
      " 7   size              48620 non-null  object \n",
      " 8   price             48620 non-null  float64\n",
      " 9   name              48620 non-null  object \n",
      " 10  category          48620 non-null  object \n",
      " 11  ingredients       48620 non-null  object \n",
      "dtypes: float64(1), int64(3), object(8)\n",
      "memory usage: 4.5+ MB\n"
     ]
    }
   ],
   "source": [
    "# Exploring the details of our master dataframe\n",
    "df_master.info()"
   ]
  },
  {
   "cell_type": "markdown",
   "id": "dc150208-a6a2-468b-ba4e-b5ab643e03cd",
   "metadata": {},
   "source": [
    "- There are **three(3), one(1), and eight(8) attributes** in the pizza place sales master dataframe are **int64, float64, and object data types** respectively."
   ]
  },
  {
   "cell_type": "code",
   "execution_count": 18,
   "id": "f6899690-cd48-4e96-9c0c-d8fbe099446a",
   "metadata": {},
   "outputs": [
    {
     "data": {
      "text/html": [
       "<div>\n",
       "<style scoped>\n",
       "    .dataframe tbody tr th:only-of-type {\n",
       "        vertical-align: middle;\n",
       "    }\n",
       "\n",
       "    .dataframe tbody tr th {\n",
       "        vertical-align: top;\n",
       "    }\n",
       "\n",
       "    .dataframe thead th {\n",
       "        text-align: right;\n",
       "    }\n",
       "</style>\n",
       "<table border=\"1\" class=\"dataframe\">\n",
       "  <thead>\n",
       "    <tr style=\"text-align: right;\">\n",
       "      <th></th>\n",
       "      <th>order_id</th>\n",
       "      <th>order_details_id</th>\n",
       "      <th>quantity</th>\n",
       "      <th>price</th>\n",
       "    </tr>\n",
       "  </thead>\n",
       "  <tbody>\n",
       "    <tr>\n",
       "      <th>count</th>\n",
       "      <td>48620.000000</td>\n",
       "      <td>48620.000000</td>\n",
       "      <td>48620.000000</td>\n",
       "      <td>48620.000000</td>\n",
       "    </tr>\n",
       "    <tr>\n",
       "      <th>mean</th>\n",
       "      <td>10701.479761</td>\n",
       "      <td>24310.500000</td>\n",
       "      <td>1.019622</td>\n",
       "      <td>16.494132</td>\n",
       "    </tr>\n",
       "    <tr>\n",
       "      <th>std</th>\n",
       "      <td>6180.119770</td>\n",
       "      <td>14035.529381</td>\n",
       "      <td>0.143077</td>\n",
       "      <td>3.621789</td>\n",
       "    </tr>\n",
       "    <tr>\n",
       "      <th>min</th>\n",
       "      <td>1.000000</td>\n",
       "      <td>1.000000</td>\n",
       "      <td>1.000000</td>\n",
       "      <td>9.750000</td>\n",
       "    </tr>\n",
       "    <tr>\n",
       "      <th>25%</th>\n",
       "      <td>5337.000000</td>\n",
       "      <td>12155.750000</td>\n",
       "      <td>1.000000</td>\n",
       "      <td>12.750000</td>\n",
       "    </tr>\n",
       "    <tr>\n",
       "      <th>50%</th>\n",
       "      <td>10682.500000</td>\n",
       "      <td>24310.500000</td>\n",
       "      <td>1.000000</td>\n",
       "      <td>16.500000</td>\n",
       "    </tr>\n",
       "    <tr>\n",
       "      <th>75%</th>\n",
       "      <td>16100.000000</td>\n",
       "      <td>36465.250000</td>\n",
       "      <td>1.000000</td>\n",
       "      <td>20.250000</td>\n",
       "    </tr>\n",
       "    <tr>\n",
       "      <th>max</th>\n",
       "      <td>21350.000000</td>\n",
       "      <td>48620.000000</td>\n",
       "      <td>4.000000</td>\n",
       "      <td>35.950000</td>\n",
       "    </tr>\n",
       "  </tbody>\n",
       "</table>\n",
       "</div>"
      ],
      "text/plain": [
       "           order_id  order_details_id      quantity         price\n",
       "count  48620.000000      48620.000000  48620.000000  48620.000000\n",
       "mean   10701.479761      24310.500000      1.019622     16.494132\n",
       "std     6180.119770      14035.529381      0.143077      3.621789\n",
       "min        1.000000          1.000000      1.000000      9.750000\n",
       "25%     5337.000000      12155.750000      1.000000     12.750000\n",
       "50%    10682.500000      24310.500000      1.000000     16.500000\n",
       "75%    16100.000000      36465.250000      1.000000     20.250000\n",
       "max    21350.000000      48620.000000      4.000000     35.950000"
      ]
     },
     "execution_count": 18,
     "metadata": {},
     "output_type": "execute_result"
    }
   ],
   "source": [
    "# Exploring the statistical details\n",
    "df_master.describe()"
   ]
  },
  {
   "cell_type": "markdown",
   "id": "9b3e4467-c2d3-476c-adf8-1ae574477405",
   "metadata": {},
   "source": [
    "- The **smallest and highest number of order** is **1 and 4** respectively.\n",
    "- The **cheapest and most expensive pizza** is **9.75 and 35.95** respectively."
   ]
  },
  {
   "cell_type": "code",
   "execution_count": 20,
   "id": "35badf88-7e00-4ceb-a4ac-cf25c2626744",
   "metadata": {},
   "outputs": [
    {
     "data": {
      "text/plain": [
       "order_id            0\n",
       "date                0\n",
       "time                0\n",
       "order_details_id    0\n",
       "pizza_id            0\n",
       "quantity            0\n",
       "pizza_type_id       0\n",
       "size                0\n",
       "price               0\n",
       "name                0\n",
       "category            0\n",
       "ingredients         0\n",
       "dtype: int64"
      ]
     },
     "execution_count": 20,
     "metadata": {},
     "output_type": "execute_result"
    }
   ],
   "source": [
    "# Checking for missing / null values.\n",
    "df_master.isna().sum()"
   ]
  },
  {
   "cell_type": "markdown",
   "id": "c2c3119c-8176-4fc2-b4ec-79b227ae0797",
   "metadata": {},
   "source": [
    "- There are **no missing / null values** in the pizza place sales dataframe."
   ]
  },
  {
   "cell_type": "code",
   "execution_count": 22,
   "id": "e0f44ee0-3c57-40fd-bf65-ce40b76473d8",
   "metadata": {},
   "outputs": [
    {
     "data": {
      "text/plain": [
       "0"
      ]
     },
     "execution_count": 22,
     "metadata": {},
     "output_type": "execute_result"
    }
   ],
   "source": [
    "# Checking if there are duplicated values\n",
    "df_master.duplicated().sum()"
   ]
  },
  {
   "cell_type": "markdown",
   "id": "49531e37-5d29-4461-b12e-62159595f9c2",
   "metadata": {},
   "source": [
    "- **There are no duplicated values in the pizza place sales dataframe.**"
   ]
  },
  {
   "cell_type": "markdown",
   "id": "ce43f5f9-6c3e-4cec-831d-26ba30a00645",
   "metadata": {},
   "source": [
    "----"
   ]
  },
  {
   "cell_type": "markdown",
   "id": "febe58cc-1913-4d56-b091-bf43362f713c",
   "metadata": {},
   "source": [
    "## Recommended Analysis"
   ]
  },
  {
   "cell_type": "markdown",
   "id": "0e63faff-d980-42f3-a9be-8ca705a10ee2",
   "metadata": {},
   "source": [
    "### 1. What is the total revenue/sales?"
   ]
  },
  {
   "cell_type": "code",
   "execution_count": 27,
   "id": "eb7bf8a4-03c8-4033-826c-51ad959c75bf",
   "metadata": {},
   "outputs": [],
   "source": [
    "# Creating a calculated attribute called 'revenue'\n",
    "df_master[\"revenue\"] = df_master[\"quantity\"] * df_master[\"price\"] "
   ]
  },
  {
   "cell_type": "code",
   "execution_count": 28,
   "id": "7cf086f3-d12c-4dd4-8966-14c4b81bd12a",
   "metadata": {},
   "outputs": [
    {
     "data": {
      "text/html": [
       "<div>\n",
       "<style scoped>\n",
       "    .dataframe tbody tr th:only-of-type {\n",
       "        vertical-align: middle;\n",
       "    }\n",
       "\n",
       "    .dataframe tbody tr th {\n",
       "        vertical-align: top;\n",
       "    }\n",
       "\n",
       "    .dataframe thead th {\n",
       "        text-align: right;\n",
       "    }\n",
       "</style>\n",
       "<table border=\"1\" class=\"dataframe\">\n",
       "  <thead>\n",
       "    <tr style=\"text-align: right;\">\n",
       "      <th></th>\n",
       "      <th>order_id</th>\n",
       "      <th>date</th>\n",
       "      <th>time</th>\n",
       "      <th>order_details_id</th>\n",
       "      <th>pizza_id</th>\n",
       "      <th>quantity</th>\n",
       "      <th>pizza_type_id</th>\n",
       "      <th>size</th>\n",
       "      <th>price</th>\n",
       "      <th>name</th>\n",
       "      <th>category</th>\n",
       "      <th>ingredients</th>\n",
       "      <th>revenue</th>\n",
       "    </tr>\n",
       "  </thead>\n",
       "  <tbody>\n",
       "    <tr>\n",
       "      <th>0</th>\n",
       "      <td>1</td>\n",
       "      <td>2015-01-01</td>\n",
       "      <td>11:38:36</td>\n",
       "      <td>1</td>\n",
       "      <td>hawaiian_m</td>\n",
       "      <td>1</td>\n",
       "      <td>hawaiian</td>\n",
       "      <td>M</td>\n",
       "      <td>13.25</td>\n",
       "      <td>The Hawaiian Pizza</td>\n",
       "      <td>Classic</td>\n",
       "      <td>Sliced Ham, Pineapple, Mozzarella Cheese</td>\n",
       "      <td>13.25</td>\n",
       "    </tr>\n",
       "    <tr>\n",
       "      <th>1</th>\n",
       "      <td>2</td>\n",
       "      <td>2015-01-01</td>\n",
       "      <td>11:57:40</td>\n",
       "      <td>2</td>\n",
       "      <td>classic_dlx_m</td>\n",
       "      <td>1</td>\n",
       "      <td>classic_dlx</td>\n",
       "      <td>M</td>\n",
       "      <td>16.00</td>\n",
       "      <td>The Classic Deluxe Pizza</td>\n",
       "      <td>Classic</td>\n",
       "      <td>Pepperoni, Mushrooms, Red Onions, Red Peppers,...</td>\n",
       "      <td>16.00</td>\n",
       "    </tr>\n",
       "    <tr>\n",
       "      <th>2</th>\n",
       "      <td>2</td>\n",
       "      <td>2015-01-01</td>\n",
       "      <td>11:57:40</td>\n",
       "      <td>3</td>\n",
       "      <td>five_cheese_l</td>\n",
       "      <td>1</td>\n",
       "      <td>five_cheese</td>\n",
       "      <td>L</td>\n",
       "      <td>18.50</td>\n",
       "      <td>The Five Cheese Pizza</td>\n",
       "      <td>Veggie</td>\n",
       "      <td>Mozzarella Cheese, Provolone Cheese, Smoked Go...</td>\n",
       "      <td>18.50</td>\n",
       "    </tr>\n",
       "    <tr>\n",
       "      <th>3</th>\n",
       "      <td>2</td>\n",
       "      <td>2015-01-01</td>\n",
       "      <td>11:57:40</td>\n",
       "      <td>4</td>\n",
       "      <td>ital_supr_l</td>\n",
       "      <td>1</td>\n",
       "      <td>ital_supr</td>\n",
       "      <td>L</td>\n",
       "      <td>20.75</td>\n",
       "      <td>The Italian Supreme Pizza</td>\n",
       "      <td>Supreme</td>\n",
       "      <td>Calabrese Salami, Capocollo, Tomatoes, Red Oni...</td>\n",
       "      <td>20.75</td>\n",
       "    </tr>\n",
       "    <tr>\n",
       "      <th>4</th>\n",
       "      <td>2</td>\n",
       "      <td>2015-01-01</td>\n",
       "      <td>11:57:40</td>\n",
       "      <td>5</td>\n",
       "      <td>mexicana_m</td>\n",
       "      <td>1</td>\n",
       "      <td>mexicana</td>\n",
       "      <td>M</td>\n",
       "      <td>16.00</td>\n",
       "      <td>The Mexicana Pizza</td>\n",
       "      <td>Veggie</td>\n",
       "      <td>Tomatoes, Red Peppers, Jalapeno Peppers, Red O...</td>\n",
       "      <td>16.00</td>\n",
       "    </tr>\n",
       "  </tbody>\n",
       "</table>\n",
       "</div>"
      ],
      "text/plain": [
       "   order_id        date      time  order_details_id       pizza_id  quantity  \\\n",
       "0         1  2015-01-01  11:38:36                 1     hawaiian_m         1   \n",
       "1         2  2015-01-01  11:57:40                 2  classic_dlx_m         1   \n",
       "2         2  2015-01-01  11:57:40                 3  five_cheese_l         1   \n",
       "3         2  2015-01-01  11:57:40                 4    ital_supr_l         1   \n",
       "4         2  2015-01-01  11:57:40                 5     mexicana_m         1   \n",
       "\n",
       "  pizza_type_id size  price                       name category  \\\n",
       "0      hawaiian    M  13.25         The Hawaiian Pizza  Classic   \n",
       "1   classic_dlx    M  16.00   The Classic Deluxe Pizza  Classic   \n",
       "2   five_cheese    L  18.50      The Five Cheese Pizza   Veggie   \n",
       "3     ital_supr    L  20.75  The Italian Supreme Pizza  Supreme   \n",
       "4      mexicana    M  16.00         The Mexicana Pizza   Veggie   \n",
       "\n",
       "                                         ingredients  revenue  \n",
       "0           Sliced Ham, Pineapple, Mozzarella Cheese    13.25  \n",
       "1  Pepperoni, Mushrooms, Red Onions, Red Peppers,...    16.00  \n",
       "2  Mozzarella Cheese, Provolone Cheese, Smoked Go...    18.50  \n",
       "3  Calabrese Salami, Capocollo, Tomatoes, Red Oni...    20.75  \n",
       "4  Tomatoes, Red Peppers, Jalapeno Peppers, Red O...    16.00  "
      ]
     },
     "execution_count": 28,
     "metadata": {},
     "output_type": "execute_result"
    }
   ],
   "source": [
    "df_master.head()"
   ]
  },
  {
   "cell_type": "code",
   "execution_count": 29,
   "id": "c6787cce-2928-487a-984b-ef9b9e464e33",
   "metadata": {},
   "outputs": [
    {
     "name": "stdout",
     "output_type": "stream",
     "text": [
      "The total revenue is: 817860.05\n"
     ]
    }
   ],
   "source": [
    "# Calculating the total revenue generated from the pizza place sales\n",
    "total_revenue = df_master[\"revenue\"].sum()\n",
    "print(f\"The total revenue is: {total_revenue}\")"
   ]
  },
  {
   "cell_type": "markdown",
   "id": "a08e5097-a56e-4cee-8488-bc6854ea733c",
   "metadata": {},
   "source": [
    "### 2. Find the total quantity sold."
   ]
  },
  {
   "cell_type": "code",
   "execution_count": 31,
   "id": "9feffe2a-ab74-4121-baf6-75bfa73234e6",
   "metadata": {},
   "outputs": [
    {
     "name": "stdout",
     "output_type": "stream",
     "text": [
      "The total quantity sold is: 49574\n"
     ]
    }
   ],
   "source": [
    "# Calculating the total quantity of pizza sold \n",
    "total_quantity_sold = df_master[\"quantity\"].sum()\n",
    "print(f\"The total quantity sold is: {total_quantity_sold}\")"
   ]
  },
  {
   "cell_type": "markdown",
   "id": "07a4e2fe-9a06-4a5a-a5a9-4c94ca704401",
   "metadata": {},
   "source": [
    "### 3. Find the total orders."
   ]
  },
  {
   "cell_type": "code",
   "execution_count": 33,
   "id": "cba68f31-ef5c-4f40-8134-ae7e21c7bedb",
   "metadata": {},
   "outputs": [
    {
     "name": "stdout",
     "output_type": "stream",
     "text": [
      "The total orders is: 21350\n"
     ]
    }
   ],
   "source": [
    "# Calculating the total number of unique orders placed.\n",
    "total_orders = df_master[\"order_id\"].nunique()\n",
    "print(f\"The total orders is: {total_orders}\")"
   ]
  },
  {
   "cell_type": "markdown",
   "id": "9d230295-6bb1-43b9-a8fa-db737f8a80e0",
   "metadata": {},
   "source": [
    "### 4. How many pizza types do they sell?"
   ]
  },
  {
   "cell_type": "code",
   "execution_count": 35,
   "id": "e34c7a1a-db1c-4f38-95ee-ac8a7fdc02c6",
   "metadata": {},
   "outputs": [
    {
     "name": "stdout",
     "output_type": "stream",
     "text": [
      "The total number of pizza type sold is: 32\n"
     ]
    }
   ],
   "source": [
    "# Calculating the total pizza types sold\n",
    "pizza_type_sold = df_master[\"pizza_type_id\"].nunique()\n",
    "print(f\"The total number of pizza type sold is: {pizza_type_sold}\")"
   ]
  },
  {
   "cell_type": "markdown",
   "id": "59ede570-4210-4624-bf3d-42e610af8fb7",
   "metadata": {},
   "source": [
    "### 5. Find the average price of the pizzas."
   ]
  },
  {
   "cell_type": "code",
   "execution_count": 37,
   "id": "e3e046ce-464d-49da-8474-fed83ad944cd",
   "metadata": {},
   "outputs": [
    {
     "name": "stdout",
     "output_type": "stream",
     "text": [
      "The average price of the pizzas is:  16.49\n"
     ]
    }
   ],
   "source": [
    "# Calculating the total average pizza price\n",
    "avg_price = df_master[\"price\"].mean()\n",
    "print(f\"The average price of the pizzas is: {avg_price: .2f}\")"
   ]
  },
  {
   "cell_type": "markdown",
   "id": "2a7acc28-55e2-4991-840b-75728ddb61d6",
   "metadata": {},
   "source": [
    "### 6. What are the peak hours of sales?"
   ]
  },
  {
   "cell_type": "code",
   "execution_count": 39,
   "id": "d6e153df-2c79-45f4-a0a7-553b9fc762e4",
   "metadata": {},
   "outputs": [
    {
     "data": {
      "text/html": [
       "<div>\n",
       "<style scoped>\n",
       "    .dataframe tbody tr th:only-of-type {\n",
       "        vertical-align: middle;\n",
       "    }\n",
       "\n",
       "    .dataframe tbody tr th {\n",
       "        vertical-align: top;\n",
       "    }\n",
       "\n",
       "    .dataframe thead th {\n",
       "        text-align: right;\n",
       "    }\n",
       "</style>\n",
       "<table border=\"1\" class=\"dataframe\">\n",
       "  <thead>\n",
       "    <tr style=\"text-align: right;\">\n",
       "      <th></th>\n",
       "      <th>hour</th>\n",
       "      <th>revenue</th>\n",
       "    </tr>\n",
       "  </thead>\n",
       "  <tbody>\n",
       "    <tr>\n",
       "      <th>0</th>\n",
       "      <td>9</td>\n",
       "      <td>83.00</td>\n",
       "    </tr>\n",
       "    <tr>\n",
       "      <th>1</th>\n",
       "      <td>10</td>\n",
       "      <td>303.65</td>\n",
       "    </tr>\n",
       "    <tr>\n",
       "      <th>2</th>\n",
       "      <td>11</td>\n",
       "      <td>44935.80</td>\n",
       "    </tr>\n",
       "    <tr>\n",
       "      <th>3</th>\n",
       "      <td>12</td>\n",
       "      <td>111877.90</td>\n",
       "    </tr>\n",
       "    <tr>\n",
       "      <th>4</th>\n",
       "      <td>13</td>\n",
       "      <td>106065.70</td>\n",
       "    </tr>\n",
       "    <tr>\n",
       "      <th>5</th>\n",
       "      <td>14</td>\n",
       "      <td>59201.40</td>\n",
       "    </tr>\n",
       "    <tr>\n",
       "      <th>6</th>\n",
       "      <td>15</td>\n",
       "      <td>52992.30</td>\n",
       "    </tr>\n",
       "    <tr>\n",
       "      <th>7</th>\n",
       "      <td>16</td>\n",
       "      <td>70055.40</td>\n",
       "    </tr>\n",
       "    <tr>\n",
       "      <th>8</th>\n",
       "      <td>17</td>\n",
       "      <td>86237.45</td>\n",
       "    </tr>\n",
       "    <tr>\n",
       "      <th>9</th>\n",
       "      <td>18</td>\n",
       "      <td>89296.85</td>\n",
       "    </tr>\n",
       "    <tr>\n",
       "      <th>10</th>\n",
       "      <td>19</td>\n",
       "      <td>72628.90</td>\n",
       "    </tr>\n",
       "    <tr>\n",
       "      <th>11</th>\n",
       "      <td>20</td>\n",
       "      <td>58215.40</td>\n",
       "    </tr>\n",
       "    <tr>\n",
       "      <th>12</th>\n",
       "      <td>21</td>\n",
       "      <td>42029.80</td>\n",
       "    </tr>\n",
       "    <tr>\n",
       "      <th>13</th>\n",
       "      <td>22</td>\n",
       "      <td>22815.15</td>\n",
       "    </tr>\n",
       "    <tr>\n",
       "      <th>14</th>\n",
       "      <td>23</td>\n",
       "      <td>1121.35</td>\n",
       "    </tr>\n",
       "  </tbody>\n",
       "</table>\n",
       "</div>"
      ],
      "text/plain": [
       "    hour    revenue\n",
       "0      9      83.00\n",
       "1     10     303.65\n",
       "2     11   44935.80\n",
       "3     12  111877.90\n",
       "4     13  106065.70\n",
       "5     14   59201.40\n",
       "6     15   52992.30\n",
       "7     16   70055.40\n",
       "8     17   86237.45\n",
       "9     18   89296.85\n",
       "10    19   72628.90\n",
       "11    20   58215.40\n",
       "12    21   42029.80\n",
       "13    22   22815.15\n",
       "14    23    1121.35"
      ]
     },
     "execution_count": 39,
     "metadata": {},
     "output_type": "execute_result"
    }
   ],
   "source": [
    "# Converting time column to time format since it was originally in object type\n",
    "df_master['time'] = pd.to_datetime(df_master['time'], format='%H:%M:%S').dt.time\n",
    "\n",
    "# Extracting and creating hour column from our time\n",
    "df_master['hour'] = pd.to_datetime(df_master['time'], format='%H:%M:%S').dt.hour\n",
    "\n",
    "# Aggregating revenue(sales) by hour\n",
    "hourly_revenue = df_master.groupby(\"hour\")[\"revenue\"].sum().reset_index()\n",
    "\n",
    "#Displaying the hourly revenue dataframe\n",
    "hourly_revenue"
   ]
  },
  {
   "cell_type": "code",
   "execution_count": 40,
   "id": "22ff2de5-4431-42e6-b2c1-22c487d408b6",
   "metadata": {},
   "outputs": [
    {
     "data": {
      "image/png": "[encoded data removed]",
      "text/plain": [
       "<Figure size 640x480 with 1 Axes>"
      ]
     },
     "metadata": {},
     "output_type": "display_data"
    }
   ],
   "source": [
    "plt.plot(hourly_revenue[\"hour\"], hourly_revenue[\"revenue\"], color=\"purple\", marker='o')\n",
    "plt.title(\"Revenue By Hour\")\n",
    "plt.xlabel(\"Hourly Time\")\n",
    "plt.ylabel(\"Revenue(Sales)\")\n",
    "\n",
    "plt.show()"
   ]
  },
  {
   "cell_type": "markdown",
   "id": "87d1f455-4839-443e-9582-096a31ff33af",
   "metadata": {},
   "source": [
    "- **The peak hour of sales is 12:00 hours.**"
   ]
  },
  {
   "cell_type": "markdown",
   "id": "d355c75d-c505-4b84-b9fe-331bed8403a2",
   "metadata": {},
   "source": [
    "### 7. Find the total sales made on each day of the week. Which day of the week is when sales are made the most?"
   ]
  },
  {
   "cell_type": "code",
   "execution_count": 43,
   "id": "2e8b7c2d-51eb-458d-8596-9e186dd29711",
   "metadata": {},
   "outputs": [
    {
     "data": {
      "text/html": [
       "<div>\n",
       "<style scoped>\n",
       "    .dataframe tbody tr th:only-of-type {\n",
       "        vertical-align: middle;\n",
       "    }\n",
       "\n",
       "    .dataframe tbody tr th {\n",
       "        vertical-align: top;\n",
       "    }\n",
       "\n",
       "    .dataframe thead th {\n",
       "        text-align: right;\n",
       "    }\n",
       "</style>\n",
       "<table border=\"1\" class=\"dataframe\">\n",
       "  <thead>\n",
       "    <tr style=\"text-align: right;\">\n",
       "      <th></th>\n",
       "      <th>day_of_week</th>\n",
       "      <th>revenue</th>\n",
       "    </tr>\n",
       "  </thead>\n",
       "  <tbody>\n",
       "    <tr>\n",
       "      <th>0</th>\n",
       "      <td>Monday</td>\n",
       "      <td>107329.55</td>\n",
       "    </tr>\n",
       "    <tr>\n",
       "      <th>1</th>\n",
       "      <td>Tuesday</td>\n",
       "      <td>114133.80</td>\n",
       "    </tr>\n",
       "    <tr>\n",
       "      <th>2</th>\n",
       "      <td>Wednesday</td>\n",
       "      <td>114408.40</td>\n",
       "    </tr>\n",
       "    <tr>\n",
       "      <th>3</th>\n",
       "      <td>Thursday</td>\n",
       "      <td>123528.50</td>\n",
       "    </tr>\n",
       "    <tr>\n",
       "      <th>4</th>\n",
       "      <td>Friday</td>\n",
       "      <td>136073.90</td>\n",
       "    </tr>\n",
       "    <tr>\n",
       "      <th>5</th>\n",
       "      <td>Saturday</td>\n",
       "      <td>123182.40</td>\n",
       "    </tr>\n",
       "    <tr>\n",
       "      <th>6</th>\n",
       "      <td>Sunday</td>\n",
       "      <td>99203.50</td>\n",
       "    </tr>\n",
       "  </tbody>\n",
       "</table>\n",
       "</div>"
      ],
      "text/plain": [
       "  day_of_week    revenue\n",
       "0      Monday  107329.55\n",
       "1     Tuesday  114133.80\n",
       "2   Wednesday  114408.40\n",
       "3    Thursday  123528.50\n",
       "4      Friday  136073.90\n",
       "5    Saturday  123182.40\n",
       "6      Sunday   99203.50"
      ]
     },
     "execution_count": 43,
     "metadata": {},
     "output_type": "execute_result"
    }
   ],
   "source": [
    "# Defining the correct weekday order as the first one I ran was ordered alphabetically\n",
    "ordered_days = [\"Monday\", \"Tuesday\", \"Wednesday\", \"Thursday\", \"Friday\", \"Saturday\", \"Sunday\"]\n",
    "\n",
    "# Converting date column to date format since it was originally in object type\n",
    "df_master['date'] = pd.to_datetime(df_master['date'], format='%Y-%m-%d')\n",
    "\n",
    "# Extracting and creating weekday column from our date\n",
    "df_master['day_of_week'] = df_master['date'].dt.day_name()\n",
    "\n",
    "# Aggregating revenue(sales) by weekday\n",
    "weekday_revenue = df_master.groupby(\"day_of_week\")[\"revenue\"].sum().reset_index()\n",
    "\n",
    "# Converting my day of week to categorical with order\n",
    "weekday_revenue[\"day_of_week\"] = pd.Categorical(weekday_revenue[\"day_of_week\"],categories=ordered_days,ordered=True)\n",
    "\n",
    "# Sorting by the categorical order I made\n",
    "weekday_revenue = weekday_revenue.sort_values(\"day_of_week\").reset_index(drop=True)\n",
    "\n",
    "#Displaying the hourly revenue dataframe\n",
    "weekday_revenue"
   ]
  },
  {
   "cell_type": "markdown",
   "id": "66ebd60f-6de3-41b7-9ccc-79c988c7f5c5",
   "metadata": {},
   "source": [
    "- **The total sales for Monday, Tuesday, Wednesday, Thursday, Friday, Saturday, and Sunday are 107329.55, 114133.80, 114408.40, 123528.50, 136073.90, 123182.40, and 99203.50 respectively.**"
   ]
  },
  {
   "cell_type": "code",
   "execution_count": 45,
   "id": "d8f316a1-d5d6-49a6-a54f-da345da15d64",
   "metadata": {},
   "outputs": [
    {
     "data": {
      "image/png": "[encoded data removed]",
      "text/plain": [
       "<Figure size 640x480 with 1 Axes>"
      ]
     },
     "metadata": {},
     "output_type": "display_data"
    }
   ],
   "source": [
    "plt.bar(weekday_revenue[\"day_of_week\"], weekday_revenue[\"revenue\"], color=\"purple\")\n",
    "\n",
    "plt.title(\"Revenue By Day Of The Week\")\n",
    "plt.xlabel(\"Weekday\")\n",
    "plt.ylabel(\"Revenue (Sales)\")\n",
    "\n",
    "plt.show()"
   ]
  },
  {
   "cell_type": "markdown",
   "id": "0715cd7f-a270-4bda-9559-3bdd20767ef4",
   "metadata": {},
   "source": [
    "- **The day of the week with the most sales of pizza is Friday with $13,6073.90.**"
   ]
  },
  {
   "cell_type": "markdown",
   "id": "697077f3-0364-4454-b8d8-9537bfd11a65",
   "metadata": {},
   "source": [
    "### 8. Find the top 5 bestselling pizzas."
   ]
  },
  {
   "cell_type": "code",
   "execution_count": 48,
   "id": "ca196a15-cdd4-492e-a1e4-544b201bf977",
   "metadata": {},
   "outputs": [
    {
     "data": {
      "text/html": [
       "<div>\n",
       "<style scoped>\n",
       "    .dataframe tbody tr th:only-of-type {\n",
       "        vertical-align: middle;\n",
       "    }\n",
       "\n",
       "    .dataframe tbody tr th {\n",
       "        vertical-align: top;\n",
       "    }\n",
       "\n",
       "    .dataframe thead th {\n",
       "        text-align: right;\n",
       "    }\n",
       "</style>\n",
       "<table border=\"1\" class=\"dataframe\">\n",
       "  <thead>\n",
       "    <tr style=\"text-align: right;\">\n",
       "      <th></th>\n",
       "      <th>name</th>\n",
       "      <th>revenue</th>\n",
       "    </tr>\n",
       "  </thead>\n",
       "  <tbody>\n",
       "    <tr>\n",
       "      <th>0</th>\n",
       "      <td>The Thai Chicken Pizza</td>\n",
       "      <td>43434.25</td>\n",
       "    </tr>\n",
       "    <tr>\n",
       "      <th>1</th>\n",
       "      <td>The Barbecue Chicken Pizza</td>\n",
       "      <td>42768.00</td>\n",
       "    </tr>\n",
       "    <tr>\n",
       "      <th>2</th>\n",
       "      <td>The California Chicken Pizza</td>\n",
       "      <td>41409.50</td>\n",
       "    </tr>\n",
       "    <tr>\n",
       "      <th>3</th>\n",
       "      <td>The Classic Deluxe Pizza</td>\n",
       "      <td>38180.50</td>\n",
       "    </tr>\n",
       "    <tr>\n",
       "      <th>4</th>\n",
       "      <td>The Spicy Italian Pizza</td>\n",
       "      <td>34831.25</td>\n",
       "    </tr>\n",
       "  </tbody>\n",
       "</table>\n",
       "</div>"
      ],
      "text/plain": [
       "                           name   revenue\n",
       "0        The Thai Chicken Pizza  43434.25\n",
       "1    The Barbecue Chicken Pizza  42768.00\n",
       "2  The California Chicken Pizza  41409.50\n",
       "3      The Classic Deluxe Pizza  38180.50\n",
       "4       The Spicy Italian Pizza  34831.25"
      ]
     },
     "execution_count": 48,
     "metadata": {},
     "output_type": "execute_result"
    }
   ],
   "source": [
    "# Aggregating revenue(sales) by pizza_name\n",
    "Top5_pizzas = df_master.groupby(\"name\")[\"revenue\"].sum().sort_values(ascending=False).head(5).reset_index()\n",
    "\n",
    "#Displaying the top 5 bestselling pizzas by revenue dataframe\n",
    "Top5_pizzas"
   ]
  },
  {
   "cell_type": "markdown",
   "id": "d0c40ce3-3344-41d9-a028-f010729f7172",
   "metadata": {},
   "source": [
    "- **The 5 best selling pizzas are: The Thai Chicken Pizza, The Barbecue Chicken Pizza, The California Chicken Pizza, The Classic Deluxe Pizza, The Spicy Italian Pizza.**"
   ]
  },
  {
   "cell_type": "code",
   "execution_count": 50,
   "id": "cce32d92-7d01-44f0-a52d-39b1a6452589",
   "metadata": {},
   "outputs": [
    {
     "data": {
      "image/png": "[encoded data removed]",
      "text/plain": [
       "<Figure size 640x480 with 1 Axes>"
      ]
     },
     "metadata": {},
     "output_type": "display_data"
    }
   ],
   "source": [
    "plt.barh(Top5_pizzas['name'], Top5_pizzas['revenue'])\n",
    "plt.xlabel('Revenue')\n",
    "plt.ylabel('Pizza Name')\n",
    "plt.title('Top 5 Best-Selling Pizzas by Revenue')\n",
    "\n",
    "plt.show()"
   ]
  },
  {
   "cell_type": "markdown",
   "id": "be76c01d-047b-4db4-90ef-765c11447a94",
   "metadata": {},
   "source": [
    "### 9. Find the sales made in each month. Any trend noticeable?"
   ]
  },
  {
   "cell_type": "code",
   "execution_count": 52,
   "id": "656701c6-a209-4354-a5f5-c5cd82eaa691",
   "metadata": {},
   "outputs": [
    {
     "data": {
      "text/html": [
       "<div>\n",
       "<style scoped>\n",
       "    .dataframe tbody tr th:only-of-type {\n",
       "        vertical-align: middle;\n",
       "    }\n",
       "\n",
       "    .dataframe tbody tr th {\n",
       "        vertical-align: top;\n",
       "    }\n",
       "\n",
       "    .dataframe thead th {\n",
       "        text-align: right;\n",
       "    }\n",
       "</style>\n",
       "<table border=\"1\" class=\"dataframe\">\n",
       "  <thead>\n",
       "    <tr style=\"text-align: right;\">\n",
       "      <th></th>\n",
       "      <th>month</th>\n",
       "      <th>revenue</th>\n",
       "    </tr>\n",
       "  </thead>\n",
       "  <tbody>\n",
       "    <tr>\n",
       "      <th>0</th>\n",
       "      <td>January</td>\n",
       "      <td>69793.30</td>\n",
       "    </tr>\n",
       "    <tr>\n",
       "      <th>1</th>\n",
       "      <td>February</td>\n",
       "      <td>65159.60</td>\n",
       "    </tr>\n",
       "    <tr>\n",
       "      <th>2</th>\n",
       "      <td>March</td>\n",
       "      <td>70397.10</td>\n",
       "    </tr>\n",
       "    <tr>\n",
       "      <th>3</th>\n",
       "      <td>April</td>\n",
       "      <td>68736.80</td>\n",
       "    </tr>\n",
       "    <tr>\n",
       "      <th>4</th>\n",
       "      <td>May</td>\n",
       "      <td>71402.75</td>\n",
       "    </tr>\n",
       "    <tr>\n",
       "      <th>5</th>\n",
       "      <td>June</td>\n",
       "      <td>68230.20</td>\n",
       "    </tr>\n",
       "    <tr>\n",
       "      <th>6</th>\n",
       "      <td>July</td>\n",
       "      <td>72557.90</td>\n",
       "    </tr>\n",
       "    <tr>\n",
       "      <th>7</th>\n",
       "      <td>August</td>\n",
       "      <td>68278.25</td>\n",
       "    </tr>\n",
       "    <tr>\n",
       "      <th>8</th>\n",
       "      <td>September</td>\n",
       "      <td>64180.05</td>\n",
       "    </tr>\n",
       "    <tr>\n",
       "      <th>9</th>\n",
       "      <td>October</td>\n",
       "      <td>64027.60</td>\n",
       "    </tr>\n",
       "    <tr>\n",
       "      <th>10</th>\n",
       "      <td>November</td>\n",
       "      <td>70395.35</td>\n",
       "    </tr>\n",
       "    <tr>\n",
       "      <th>11</th>\n",
       "      <td>December</td>\n",
       "      <td>64701.15</td>\n",
       "    </tr>\n",
       "  </tbody>\n",
       "</table>\n",
       "</div>"
      ],
      "text/plain": [
       "        month   revenue\n",
       "0     January  69793.30\n",
       "1    February  65159.60\n",
       "2       March  70397.10\n",
       "3       April  68736.80\n",
       "4         May  71402.75\n",
       "5        June  68230.20\n",
       "6        July  72557.90\n",
       "7      August  68278.25\n",
       "8   September  64180.05\n",
       "9     October  64027.60\n",
       "10   November  70395.35\n",
       "11   December  64701.15"
      ]
     },
     "execution_count": 52,
     "metadata": {},
     "output_type": "execute_result"
    }
   ],
   "source": [
    "# Defining the correct month order\n",
    "ordered_months = [\"January\", \"February\", \"March\", \"April\", \"May\", \"June\", \"July\", \"August\", \"September\", \"October\", \"November\", \"December\"]\n",
    "\n",
    "# Converting date column to date format since it was originally in object type\n",
    "df_master['date'] = pd.to_datetime(df_master['date'], format='%Y-%m-%d')\n",
    "\n",
    "# Extracting and creating month column from our date\n",
    "df_master['month'] = df_master['date'].dt.month_name()\n",
    "\n",
    "# Aggregating revenue(sales) by month\n",
    "monthly_revenue = df_master.groupby(\"month\")[\"revenue\"].sum().reset_index()\n",
    "\n",
    "# Converting my month to categorical with order\n",
    "monthly_revenue[\"month\"] = pd.Categorical(monthly_revenue[\"month\"],categories=ordered_months,ordered=True)\n",
    "\n",
    "# Sorting by the categorical order I made\n",
    "monthly_revenue = monthly_revenue.sort_values(\"month\").reset_index(drop=True)\n",
    "\n",
    "#Displaying the hourly revenue dataframe\n",
    "monthly_revenue"
   ]
  },
  {
   "cell_type": "markdown",
   "id": "f553ecb2-5d3c-425c-8792-38faae5454fe",
   "metadata": {},
   "source": [
    "- **The sales made in each month are showed in the dataframe(table) above.**"
   ]
  },
  {
   "cell_type": "code",
   "execution_count": 54,
   "id": "6b7186bb-ac13-4afb-806f-58b12f56a11e",
   "metadata": {},
   "outputs": [
    {
     "data": {
      "image/png": "[encoded data removed]",
      "text/plain": [
       "<Figure size 640x480 with 1 Axes>"
      ]
     },
     "metadata": {},
     "output_type": "display_data"
    }
   ],
   "source": [
    "plt.bar(monthly_revenue[\"month\"], monthly_revenue[\"revenue\"], color=\"blue\")\n",
    "\n",
    "plt.title(\"Revenue By Month\")\n",
    "plt.xlabel(\"Month\")\n",
    "plt.ylabel(\"Revenue (Sales)\")\n",
    "plt.xticks(rotation=90)\n",
    "\n",
    "plt.show()"
   ]
  },
  {
   "cell_type": "markdown",
   "id": "eca69abe-494a-47a3-948e-f95beae0f986",
   "metadata": {},
   "source": [
    "- **Noticeable Trend:** ***There has been a consistent alternating rise and fall in the monthly sales from January till September, while September and October experience even sales and the alternating rise or fall trend continued after October.***"
   ]
  },
  {
   "cell_type": "markdown",
   "id": "4d097d4f-f585-4720-950b-aec2a0d66993",
   "metadata": {},
   "source": [
    "### 10. Are there pizza types that are not doing well on the menu?"
   ]
  },
  {
   "cell_type": "code",
   "execution_count": 57,
   "id": "a1baf05d-3659-4c8c-9d2d-364e4b96d79c",
   "metadata": {},
   "outputs": [
    {
     "data": {
      "text/html": [
       "<div>\n",
       "<style scoped>\n",
       "    .dataframe tbody tr th:only-of-type {\n",
       "        vertical-align: middle;\n",
       "    }\n",
       "\n",
       "    .dataframe tbody tr th {\n",
       "        vertical-align: top;\n",
       "    }\n",
       "\n",
       "    .dataframe thead th {\n",
       "        text-align: right;\n",
       "    }\n",
       "</style>\n",
       "<table border=\"1\" class=\"dataframe\">\n",
       "  <thead>\n",
       "    <tr style=\"text-align: right;\">\n",
       "      <th></th>\n",
       "      <th>name</th>\n",
       "      <th>revenue</th>\n",
       "    </tr>\n",
       "  </thead>\n",
       "  <tbody>\n",
       "    <tr>\n",
       "      <th>0</th>\n",
       "      <td>The Brie Carre Pizza</td>\n",
       "      <td>11588.50</td>\n",
       "    </tr>\n",
       "    <tr>\n",
       "      <th>1</th>\n",
       "      <td>The Green Garden Pizza</td>\n",
       "      <td>13955.75</td>\n",
       "    </tr>\n",
       "    <tr>\n",
       "      <th>2</th>\n",
       "      <td>The Spinach Supreme Pizza</td>\n",
       "      <td>15277.75</td>\n",
       "    </tr>\n",
       "    <tr>\n",
       "      <th>3</th>\n",
       "      <td>The Mediterranean Pizza</td>\n",
       "      <td>15360.50</td>\n",
       "    </tr>\n",
       "    <tr>\n",
       "      <th>4</th>\n",
       "      <td>The Spinach Pesto Pizza</td>\n",
       "      <td>15596.00</td>\n",
       "    </tr>\n",
       "  </tbody>\n",
       "</table>\n",
       "</div>"
      ],
      "text/plain": [
       "                        name   revenue\n",
       "0       The Brie Carre Pizza  11588.50\n",
       "1     The Green Garden Pizza  13955.75\n",
       "2  The Spinach Supreme Pizza  15277.75\n",
       "3    The Mediterranean Pizza  15360.50\n",
       "4    The Spinach Pesto Pizza  15596.00"
      ]
     },
     "execution_count": 57,
     "metadata": {},
     "output_type": "execute_result"
    }
   ],
   "source": [
    "# Aggregating revenue(sales) by pizza_name\n",
    "Bottom5_pizzas = df_master.groupby(\"name\")[\"revenue\"].sum().sort_values(ascending=True).head(5).reset_index()\n",
    "\n",
    "#Displaying the Bottom 5 worstselling pizzas by revenue dataframe\n",
    "Bottom5_pizzas"
   ]
  },
  {
   "cell_type": "markdown",
   "id": "37571355-b06a-4870-9324-1f40caf25226",
   "metadata": {},
   "source": [
    "- **These are the worst 5 selling pizzas: The Brie Carre Pizza with the worst sales of 11588.50, followed by, The Green Garden Pizza with 13955.75, then, The Spinach Supreme Pizza with 15277.75, then The Mediterranean Pizza with 15360.50, and The Spinach Pesto Pizza with 15596.00.**"
   ]
  },
  {
   "cell_type": "code",
   "execution_count": 59,
   "id": "c9014b3f-cae1-4bab-8fb0-08ef2c65ac47",
   "metadata": {},
   "outputs": [
    {
     "data": {
      "image/png": "[encoded data removed]",
      "text/plain": [
       "<Figure size 640x480 with 1 Axes>"
      ]
     },
     "metadata": {},
     "output_type": "display_data"
    }
   ],
   "source": [
    "plt.barh(Bottom5_pizzas['name'], Bottom5_pizzas['revenue'])\n",
    "plt.xlabel('Revenue')\n",
    "plt.ylabel('Pizza Name')\n",
    "plt.title('Bottom 5 Worst-Selling Pizzas by Revenue')\n",
    "\n",
    "plt.show()"
   ]
  }
 ],
 "metadata": {
  "kernelspec": {
   "display_name": "Python [conda env:base] *",
   "language": "python",
   "name": "conda-base-py"
  },
  "language_info": {
   "codemirror_mode": {
    "name": "ipython",
    "version": 3
   },
   "file_extension": ".py",
   "mimetype": "text/x-python",
   "name": "python",
   "nbconvert_exporter": "python",
   "pygments_lexer": "ipython3",
   "version": "3.12.7"
  }
 },
 "nbformat": 4,
 "nbformat_minor": 5
}
